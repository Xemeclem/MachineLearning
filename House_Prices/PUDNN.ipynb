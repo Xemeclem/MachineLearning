{
 "cells": [
  {
   "cell_type": "markdown",
   "id": "05bbe903-435f-4501-b203-14f4f37c0e69",
   "metadata": {},
   "source": [
    "采用PUDNN预测房价问题"
   ]
  },
  {
   "cell_type": "code",
   "execution_count": 1,
   "id": "0e5b8d57-560f-4644-8bdb-ab2ef6c1df65",
   "metadata": {},
   "outputs": [],
   "source": [
    "import torch\n",
    "import numpy as np\n",
    "import pandas as pd\n",
    "import matplotlib.pyplot as plt\n",
    "import sys, os, glob, zipfile\n",
    "from torch import nn, optim\n",
    "from torch.utils.data import Dataset, DataLoader\n",
    "from torch.nn.parameter import Parameter\n",
    "from tqdm import tqdm\n",
    "from sklearn.cluster import KMeans"
   ]
  },
  {
   "cell_type": "code",
   "execution_count": 2,
   "id": "2b3f1174-6488-4ed3-a717-666b45a29626",
   "metadata": {},
   "outputs": [],
   "source": [
    "# 数据预处理过程\n",
    "train_data = pd.read_csv('Data/train.csv') # type: DtaFrame, size: 1460 x 81\n",
    "test_data = pd.read_csv('Data/test.csv') # type: DtaFrame, size: 1459 x 80\n",
    "all_data = pd.concat((train_data.iloc[:,1:-1], test_data.iloc[:,1:])) # type: DtaFrame, size: (1460 + 1459) x 79 (去掉了数据的序号)\n",
    "# 1.数值数据进行标准化，标准化后，每个特征的均值变为 0，所以可以直接⽤ 0来替换缺失值\n",
    "numeric_features = all_data.dtypes[all_data.dtypes != 'object'].index # type: Index\n",
    "all_data[numeric_features] = all_data[numeric_features].apply(lambda x: (x - x.mean()) / (x.std()))\n",
    "all_data[numeric_features] = all_data[numeric_features].fillna(0)\n",
    "# 2.文本数据采用 one-hot 编码\n",
    "all_data = pd.get_dummies(all_data, dummy_na=True, dtype=int) # type: size: 2919 x 330"
   ]
  },
  {
   "cell_type": "code",
   "execution_count": 3,
   "id": "5e929746-f4f5-476f-b178-e80f3178662e",
   "metadata": {},
   "outputs": [],
   "source": [
    "n_train = train_data.shape[0]\n",
    "train_inputs = all_data[:n_train].values\n",
    "train_labels = train_data.SalePrice.values.reshape(-1, 1)\n",
    "test_inputs = all_data[n_train:].values"
   ]
  },
  {
   "cell_type": "code",
   "execution_count": 4,
   "id": "17e061b6-7a5b-4be5-b5fb-762bacab9e3b",
   "metadata": {},
   "outputs": [],
   "source": [
    "# 对标签进行Z-score标准化\n",
    "l_mean = train_labels.mean()\n",
    "l_std = train_labels.std()\n",
    "train_labels = (train_labels - l_mean)/l_std"
   ]
  },
  {
   "cell_type": "code",
   "execution_count": 5,
   "id": "33b08438-5137-43ee-98bd-08d96e6642f0",
   "metadata": {},
   "outputs": [],
   "source": [
    "class Mydata(Dataset):\n",
    "    def __init__(self, inputs, labels):\n",
    "        self.inputs = torch.tensor(inputs, dtype = torch.float)\n",
    "        self.labels = torch.tensor(labels, dtype = torch.float)\n",
    "          \n",
    "    def __getitem__(self, item):\n",
    "        return self.inputs[item,:], self.labels[item,:]\n",
    "                                             \n",
    "    def __len__(self):\n",
    "        return len(self.labels)"
   ]
  },
  {
   "cell_type": "code",
   "execution_count": 6,
   "id": "e0966a30-6862-4feb-a090-3353c2c3f120",
   "metadata": {},
   "outputs": [
    {
     "name": "stderr",
     "output_type": "stream",
     "text": [
      "C:\\ProgramData\\anaconda3\\Lib\\site-packages\\sklearn\\cluster\\_kmeans.py:870: FutureWarning: The default value of `n_init` will change from 10 to 'auto' in 1.4. Set the value of `n_init` explicitly to suppress the warning\n",
      "  warnings.warn(\n",
      "C:\\ProgramData\\anaconda3\\Lib\\site-packages\\sklearn\\cluster\\_kmeans.py:1382: UserWarning: KMeans is known to have a memory leak on Windows with MKL, when there are less chunks than available threads. You can avoid it by setting the environment variable OMP_NUM_THREADS=6.\n",
      "  warnings.warn(\n"
     ]
    }
   ],
   "source": [
    "# PUMLP网络\n",
    "num_data = n_train\n",
    "num_centers = 200\n",
    "estimator = KMeans(n_clusters=num_centers).fit(train_inputs)\n",
    "centers = torch.tensor(estimator.cluster_centers_, dtype = torch.float)\n",
    "if torch.cuda.is_available():\n",
    "    centers = centers.cuda()\n",
    "    \n",
    "class ResBlock(nn.Module):\n",
    "    def __init__(self, in_features, out_features):\n",
    "        super(ResBlock, self).__init__()\n",
    "\n",
    "        self.linear1 = nn.Linear(in_features, (in_features+out_features)//2)\n",
    "        self.linear2 = nn.Linear((in_features+out_features)//2, out_features)\n",
    "        self.active = nn.Sigmoid()\n",
    "\n",
    "    def forward(self, x):\n",
    "        y = self.active(self.linear1(x))\n",
    "        y = self.linear2(y)\n",
    "        return self.active(x + y)   \n",
    "        \n",
    "class DNN(nn.Module):\n",
    "    def __init__(self, in_features, out_features, depth):\n",
    "        super(DNN, self).__init__()\n",
    "\n",
    "        self.depth = depth\n",
    "        self.linear1 = nn.Linear(in_features, (in_features+out_features)//2)\n",
    "        self.dnn = nn.ModuleList([ResBlock((in_features+out_features)//2, (in_features+out_features)//2) for _ in range(self.depth)])\n",
    "        self.linear2 = nn.Linear((in_features+out_features)//2, out_features)\n",
    "        self.active = nn.Sigmoid()\n",
    "\n",
    "    def forward(self, inputs):\n",
    "        outputs = self.active(self.linear1(inputs))\n",
    "        for i in range(self.depth):\n",
    "            outputs = self.dnn[i](outputs)\n",
    "        outputs = self.linear2(outputs)\n",
    "        return outputs\n",
    "\n",
    "class PUDNN(nn.Module):\n",
    "    def __init__(self, in_features, out_features, depth):\n",
    "        super(PUDNN, self).__init__()\n",
    "        self.dnn  = DNN(in_features, out_features, depth)\n",
    "        self.softmax = nn.Softmax(dim=1)\n",
    "    \n",
    "    def forward(self, inputs):\n",
    "        # 距离矩阵\n",
    "        for i in range(inputs.shape[0]):\n",
    "            mid = torch.sum((inputs[i,:] - centers)**2, dim=1, keepdim=True)\n",
    "            if i < 1:\n",
    "                DM = mid.T\n",
    "            else:\n",
    "                DM = torch.cat((DM, mid.T), dim=0)\n",
    "        DM = self.softmax(DM)\n",
    "        for i in range(num_centers):\n",
    "            mid = self.dnn(inputs) * (DM[:,i].reshape(-1,1))\n",
    "            if i < 1:\n",
    "                outputs = mid\n",
    "            else:\n",
    "                outputs = outputs + mid\n",
    "        return outputs"
   ]
  },
  {
   "cell_type": "code",
   "execution_count": 7,
   "id": "f360fae0-bd39-4b6a-bf57-3451812a0a50",
   "metadata": {},
   "outputs": [],
   "source": [
    "# 加载数据集、设置网络训练的参数\n",
    "train_data = Mydata(train_inputs, train_labels)\n",
    "train_dataloader = DataLoader(train_data, batch_size=32, shuffle=True)\n",
    "net = PUDNN(330, 1, 64)\n",
    "loss_fn = torch.nn.SmoothL1Loss()\n",
    "if torch.cuda.is_available():\n",
    "    net = net.cuda()\n",
    "    loss_fn = loss_fn.cuda()\n",
    "optimizer = torch.optim.Adam(net.parameters(), lr=0.005)\n",
    "scheduler = torch.optim.lr_scheduler.StepLR(optimizer, step_size=4, gamma=0.5)\n",
    "epoch = 20"
   ]
  },
  {
   "cell_type": "code",
   "execution_count": null,
   "id": "50b89f26-1f3b-46dc-a186-16d32ee271ae",
   "metadata": {},
   "outputs": [
    {
     "name": "stderr",
     "output_type": "stream",
     "text": [
      " 95%|███████████████████████████████████████████████████████████████████████████    | 19/20 [1:54:55<05:50, 350.11s/it]"
     ]
    }
   ],
   "source": [
    "# 训练模型，并保存每一轮的总损失\n",
    "train_loss = []\n",
    "for i in tqdm(range(epoch)):\n",
    "    for data in train_dataloader:\n",
    "        inputs, labels = data\n",
    "        if torch.cuda.is_available():            \n",
    "            inputs = inputs.cuda()\n",
    "            labels = labels.cuda()\n",
    "        outputs = net(inputs)\n",
    "        loss = loss_fn(outputs, labels)\n",
    "        optimizer.zero_grad()\n",
    "        loss.backward()\n",
    "        optimizer.step()\n",
    "        train_loss.append(loss.item())   \n",
    "    scheduler.step()"
   ]
  },
  {
   "cell_type": "code",
   "execution_count": null,
   "id": "58d318f5-acc8-467e-bdfa-cf31225a81dd",
   "metadata": {},
   "outputs": [],
   "source": [
    "plt.plot(train_loss[:])\n",
    "plt.title(\"train_loss\")\n",
    "train_loss[-1]"
   ]
  },
  {
   "cell_type": "code",
   "execution_count": null,
   "id": "16f66127-c291-45a8-b1cd-5f97afc8e8cb",
   "metadata": {},
   "outputs": [],
   "source": [
    "inputs = torch.tensor(test_inputs[:1000], dtype=torch.float)\n",
    "preds1 = net(inputs.cuda()).detach().cpu().numpy()\n",
    "inputs = torch.tensor(test_inputs[1000:], dtype=torch.float)\n",
    "preds2 = net(inputs.cuda()).detach().cpu().numpy()\n",
    "preds = np.concatenate((preds1, preds2), axis=0)\n",
    "\n",
    "preds = preds * l_std + l_mean\n",
    "test_data['SalePrice'] = pd.Series(preds.reshape(1,-1)[0])\n",
    "submission = pd.concat([test_data['Id'], test_data['SalePrice']], axis=1)\n",
    "submission.to_csv('submission.csv', index=False)"
   ]
  }
 ],
 "metadata": {
  "kernelspec": {
   "display_name": "Python 3 (ipykernel)",
   "language": "python",
   "name": "python3"
  },
  "language_info": {
   "codemirror_mode": {
    "name": "ipython",
    "version": 3
   },
   "file_extension": ".py",
   "mimetype": "text/x-python",
   "name": "python",
   "nbconvert_exporter": "python",
   "pygments_lexer": "ipython3",
   "version": "3.11.7"
  }
 },
 "nbformat": 4,
 "nbformat_minor": 5
}
